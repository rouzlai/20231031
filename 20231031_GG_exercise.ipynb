{
  "nbformat": 4,
  "nbformat_minor": 0,
  "metadata": {
    "colab": {
      "provenance": []
    },
    "kernelspec": {
      "name": "python3",
      "display_name": "Python 3"
    },
    "language_info": {
      "name": "python"
    }
  },
  "cells": [
    {
      "cell_type": "code",
      "execution_count": 6,
      "metadata": {
        "colab": {
          "base_uri": "https://localhost:8080/"
        },
        "id": "ipbTivjh8Qo6",
        "outputId": "e77247bd-dac2-45f4-f5de-f2c18489d1b1"
      },
      "outputs": [
        {
          "output_type": "stream",
          "name": "stdout",
          "text": [
            "請輸入一個大於1的整數：11\n",
            "7\n"
          ]
        }
      ],
      "source": [
        "num=int(input(\"請輸入一個大於1的整數：\"))\n",
        "while num<2:\n",
        "  num = int(input(\"輸入錯誤，請重新輸入一個大於1的整數：\"))\n",
        "prime=[]\n",
        "for i in range(2,num+1):\n",
        "  prime.append(i)\n",
        "  for j in range(2,i):\n",
        "    if i&j==0:\n",
        "      prime.remove(i)\n",
        "      break\n",
        "print(prime[len(prime)-1])"
      ]
    },
    {
      "cell_type": "code",
      "source": [
        "num = input(\"請輸入一串數字，數字間以逗號隔開：\")\n",
        "num=num.split(\",\")\n",
        "numlist=[]\n",
        "for i in range(len(num)):\n",
        "  numlist.append(int(num[i]))\n",
        "result=[]\n",
        "for i in range(len(numlist)):\n",
        "  a=0\n",
        "  for j in range(len(numlist)):\n",
        "    if numlist[i]>numlist[j]:\n",
        "      a+=1\n",
        "  result.append(a)\n",
        "print(result)"
      ],
      "metadata": {
        "colab": {
          "base_uri": "https://localhost:8080/"
        },
        "id": "SpbNDFjr-cHU",
        "outputId": "635f8827-e0be-4ed7-c645-adf8870aecde"
      },
      "execution_count": 7,
      "outputs": [
        {
          "output_type": "stream",
          "name": "stdout",
          "text": [
            "請輸入一串數字，數字間以逗號隔開：5,4,7,6,3\n",
            "[2, 1, 4, 3, 0]\n"
          ]
        }
      ]
    },
    {
      "cell_type": "code",
      "source": [
        "ball=str(input(\"請輸入由0或1組成的字串：\"))\n",
        "result=[]\n",
        "for i in range(len(ball)):\n",
        "  count=0\n",
        "  for j in range(len(ball)):\n",
        "    if ball[j]==\"1\":\n",
        "      count+=abs(i-j)\n",
        "  result.append(count)\n",
        "print(result)"
      ],
      "metadata": {
        "colab": {
          "base_uri": "https://localhost:8080/"
        },
        "id": "nRsK-d4e_xmB",
        "outputId": "7dc1f98a-04e2-48ef-e530-72bb824c023d"
      },
      "execution_count": 8,
      "outputs": [
        {
          "output_type": "stream",
          "name": "stdout",
          "text": [
            "請輸入由0或1組成的字串：011001\n",
            "[8, 5, 4, 5, 6, 7]\n"
          ]
        }
      ]
    }
  ]
}